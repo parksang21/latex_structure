{
 "cells": [
  {
   "cell_type": "code",
   "execution_count": 76,
   "metadata": {},
   "outputs": [],
   "source": [
    "with open('test_prediction.txt', 'r') as f:\n",
    "    with open('test_prediction_wo_m.txt', 'w') as out_f:\n",
    "        for i, line in enumerate(f, 0):\n",
    "#             print(line, end='')\n",
    "            if not 'matrix' in line.split('\\t')[0]:\n",
    "                out_f.write(line)"
   ]
  },
  {
   "cell_type": "code",
   "execution_count": 25,
   "metadata": {},
   "outputs": [],
   "source": [
    "f = open('label_final_processed_wo_m_test.txt', 'r')"
   ]
  },
  {
   "cell_type": "code",
   "execution_count": 20,
   "metadata": {},
   "outputs": [],
   "source": [
    "string = [r'\\dot', r'\\overline', r'\\overrightarrow', r'\\varphi', r'\\tilde', r'\\bar']"
   ]
  },
  {
   "cell_type": "code",
   "execution_count": 77,
   "metadata": {},
   "outputs": [],
   "source": [
    "with open('test_prediction_wo_m.txt', 'r') as in_f:\n",
    "    with open('test_prediction_proprocessed.txt', 'w') as out_f:\n",
    "        for line in in_f:\n",
    "            newline = r'{}'.format(line)\n",
    "            if 'tilde' in newline:\n",
    "                newline = newline.replace('tilde', 'sqrt')\n",
    "            if 'dot' in newline:\n",
    "                newline = newline.replace('dot', 'sqrt')\n",
    "                \n",
    "            if 'overline' in newline:\n",
    "                newline = newline.replace('overline', 'sqrt')\n",
    "                \n",
    "            if 'overrightarrow' in newline:\n",
    "                newline = newline.replace('overrightarrow', 'beta')\n",
    "                \n",
    "            if 'varphi' in newline:\n",
    "                newline = newline.replace('varphi', 'beta')\n",
    "                \n",
    "            if 'bar' in newline:\n",
    "                newline = newline.replace('bar', 'sqrt')\n",
    "            \n",
    "            out_f.write(newline)\n",
    "            \n"
   ]
  },
  {
   "cell_type": "code",
   "execution_count": 67,
   "metadata": {},
   "outputs": [
    {
     "data": {
      "text/plain": [
       "'new_render_00816.jpeg\\t\\\\sqrt { \\\\phi } _ { \\\\square \\\\omega } ( \\\\omega ) = 0 , i f \\\\omega > \\\\square \\\\omega'"
      ]
     },
     "execution_count": 67,
     "metadata": {},
     "output_type": "execute_result"
    }
   ],
   "source": [
    "test = r'new_render_00816.jpeg\t\\tilde { \\phi } _ { \\square \\omega } ( \\omega ) = 0 , i f \\omega > \\square \\omega'\n",
    "\n",
    "test.replace('tilde', 'sqrt')\n"
   ]
  },
  {
   "cell_type": "code",
   "execution_count": 6,
   "metadata": {},
   "outputs": [
    {
     "name": "stdout",
     "output_type": "stream",
     "text": [
      "['new_render_00008.jpeg', 's _ { 2 } \\\\neq \\\\frac { 2 } { 4 } i ^ { o \\\\varphi } s _ { 2 } \\\\therefore \\\\varphi\\n']\n",
      "['new_render_00019.jpeg', '\\\\lim _ { \\\\phi \\\\rightarrow 0 } \\\\varphi _ { \\\\square \\\\omega } ( u , \\\\phi , i ) \\\\leq \\\\varphi ( i )\\n']\n",
      "['new_render_00033.jpeg', '( \\\\square _ { 7 } ) _ { l } ^ { o } i _ { o j } \\\\leq \\\\alpha i _ { l j }\\n']\n",
      "['new_render_00058.jpeg', '\\\\square A = - \\\\tau q \\\\int _ { 0 } ^ { S } d s \\\\gamma ^ { \\\\prime }\\n']\n",
      "['new_render_00069.jpeg', 'K _ { N N } = \\\\varepsilon _ { N } ^ { V } \\\\square _ { V } \\\\bar { n } _ { N }\\n']\n",
      "['new_render_00077.jpeg', '\\\\therefore a d ( J _ { a } ) + d ( R J _ { a } ) = 2 d\\n']\n",
      "['new_render_00083.jpeg', 'E [ k / ( m / i n ) C ] = E ( k ) , \\\\therefore g\\n']\n",
      "['new_render_00088.jpeg', 'y g \\\\neq [ T , g ] , \\\\therefore g \\\\not\\\\subset T\\n']\n",
      "['new_render_00089.jpeg', '( M _ { V V } , M _ { V V } ) \\\\div 3 \\\\theta b \\\\square M _ { V V } = 3\\n']\n",
      "['new_render_00111.jpeg', '\\\\psi ( \\\\beta , x , \\\\theta ) = \\\\psi ( 0 , x , - \\\\theta ) , \\\\therefore x\\n']\n",
      "['new_render_00112.jpeg', '[ \\\\delta , \\\\pi ( t ) ] = 0 , \\\\therefore t \\\\not\\\\subset F\\n']\n",
      "['new_render_00126.jpeg', '\\\\frac { \\\\Delta } { \\\\Delta \\\\square _ { q } } Q\\n']\n"
     ]
    }
   ],
   "source": [
    "with open('processed_test.txt', 'r') as f:\n",
    "    for i, line in enumerate(f, 0):\n",
    "        print(line.split('\\t'))\n",
    "        if i > 10: break"
   ]
  },
  {
   "cell_type": "code",
   "execution_count": 1,
   "metadata": {},
   "outputs": [],
   "source": [
    "from bs4 import BeautifulSoup"
   ]
  },
  {
   "cell_type": "code",
   "execution_count": 9,
   "metadata": {},
   "outputs": [],
   "source": [
    "soup=BeautifulSoup(open('mml_temp/new_render_00008.jpeg.mml', encoding='utf-8'), 'lxml')"
   ]
  },
  {
   "cell_type": "code",
   "execution_count": 10,
   "metadata": {},
   "outputs": [],
   "source": [
    "body=soup('math')[0]"
   ]
  },
  {
   "cell_type": "code",
   "execution_count": 11,
   "metadata": {},
   "outputs": [
    {
     "data": {
      "text/plain": [
       "<math display=\"block\" xmlns=\"http://www.w3.org/1998/Math/MathML\"><semantics><mrow><msub><mi>s</mi><mn>2</mn></msub><mo>≠</mo><mfrac><mn>2</mn><mn>4</mn></mfrac><msup><mi>i</mi><mrow><mi>o</mi><mi>φ</mi></mrow></msup><msub><mi>s</mi><mn>2</mn></msub><mo>∴</mo><mi>φ</mi></mrow><annotation encoding=\"application/x-tex\">\\begin{equation}\n",
       "    s _ { 2 } \\neq \\frac { 2 } { 4 } i ^ { o \\varphi } s _ { 2 } \\therefore \\varphi\n",
       "\\end{equation}</annotation></semantics></math>"
      ]
     },
     "execution_count": 11,
     "metadata": {},
     "output_type": "execute_result"
    }
   ],
   "source": [
    "body"
   ]
  },
  {
   "cell_type": "code",
   "execution_count": 5,
   "metadata": {},
   "outputs": [],
   "source": [
    "def remove_unknown_tags(mml):\n",
    "    valid=['mrow','mi','mo','mn','msup','msub','mfrac','msqrt',\n",
    "                       'mroot','msubsup','munder', 'mover', 'munderover',\n",
    "                       'mtd', 'mtable', 'mtr','semantics']   \n",
    "    invalid=[]\n",
    "    for subtree in mml.findChildren(): \n",
    "        tag=subtree.name\n",
    "        if tag not in valid:\n",
    "            invalid.append(tag)\n",
    "    #print('invalid tags found', invalid)\n",
    "\n",
    "    #check if semantics exist\n",
    "    #new_mml=mml.findChildren()[1] if 'semantics' in invalid else mml\n",
    "    new_mml=mml\n",
    "    for tag in invalid:\n",
    "        for item in new_mml.select(tag):\n",
    "            item.decompose()\n",
    "            \n",
    "    return new_mml"
   ]
  },
  {
   "cell_type": "code",
   "execution_count": 14,
   "metadata": {},
   "outputs": [],
   "source": [
    "from lg_gen.process_mml import add_ID, normalizeSymbol, write_mml\n"
   ]
  },
  {
   "cell_type": "code",
   "execution_count": 15,
   "metadata": {},
   "outputs": [
    {
     "data": {
      "text/plain": [
       "<math display=\"block\" xmlns=\"http://www.w3.org/1998/Math/MathML\"><semantics><mrow><msub><mi>s</mi><mn>2</mn></msub><mo>≠</mo><mfrac><mn>2</mn><mn>4</mn></mfrac><msup><mi>i</mi><mrow><mi>o</mi><mi>φ</mi></mrow></msup><msub><mi>s</mi><mn>2</mn></msub><mo>∴</mo><mi>φ</mi></mrow></semantics></math>"
      ]
     },
     "execution_count": 15,
     "metadata": {},
     "output_type": "execute_result"
    }
   ],
   "source": [
    "id_mml = remove_unknown_tags(body)\n",
    "id_mml"
   ]
  },
  {
   "cell_type": "code",
   "execution_count": 13,
   "metadata": {},
   "outputs": [
    {
     "name": "stdout",
     "output_type": "stream",
     "text": [
      "s\n",
      "\\neq\n",
      "i\n",
      "o\n",
      "\\varphi\n",
      "s\n",
      "\\therefore\n",
      "\\varphi\n"
     ]
    }
   ],
   "source": [
    "for ount, subtree in enumerate(id_mml.findAll(['mi', 'mo', 'mm'])):\n",
    "    for i, sub in enumerate(subtree):\n",
    "        print(normalizeSymbol(sub))\n",
    "    if ount > 10: break"
   ]
  },
  {
   "cell_type": "code",
   "execution_count": 17,
   "metadata": {},
   "outputs": [],
   "source": [
    "id_mml = add_ID(id_mml)"
   ]
  },
  {
   "cell_type": "code",
   "execution_count": 18,
   "metadata": {},
   "outputs": [
    {
     "data": {
      "text/plain": [
       "<math display=\"block\" xmlns=\"http://www.w3.org/1998/Math/MathML\"><semantics><mrow><msub><mi xml:id=\"s_3\">s</mi><mn xml:id=\"2_4\">2</mn></msub><mo xml:id=\"\\neq_5\">≠</mo><mfrac xml:id=\"_6\"><mn xml:id=\"2_7\">2</mn><mn xml:id=\"4_8\">4</mn></mfrac><msup><mi xml:id=\"i_10\">i</mi><mrow><mi xml:id=\"o_12\">o</mi><mi xml:id=\"\\varphi_13\">φ</mi></mrow></msup><msub><mi xml:id=\"s_15\">s</mi><mn xml:id=\"2_16\">2</mn></msub><mo xml:id=\"\\therefore_17\">∴</mo><mi xml:id=\"\\varphi_18\">φ</mi></mrow></semantics></math>"
      ]
     },
     "execution_count": 18,
     "metadata": {},
     "output_type": "execute_result"
    }
   ],
   "source": [
    "id_mml"
   ]
  },
  {
   "cell_type": "code",
   "execution_count": 20,
   "metadata": {},
   "outputs": [],
   "source": [
    "write_mml(id_mml, 'aaa.mml', './')"
   ]
  },
  {
   "cell_type": "code",
   "execution_count": 80,
   "metadata": {},
   "outputs": [],
   "source": [
    "with open('test_prediction_proprocessed.txt', 'r') as in_f:\n",
    "    with open('test_pediction_preprocessed.txt', 'w') as out_f:\n",
    "        for line in in_f:\n",
    "            line = line.replace(' ', '\\t', 1)\n",
    "            out_f.write(line)\n",
    "    "
   ]
  },
  {
   "cell_type": "code",
   "execution_count": 81,
   "metadata": {},
   "outputs": [],
   "source": [
    "lt = \"D_B,5,D_C,3,D_L,2,D_R,2,D_S,0,D_E(%),0.3860827634879544,nNodes,4,nEdges,12,nSegRelEdges,2,dPairs,2,segPairErrors,0,nodeCorrect,0,edgeDiffClassCount,0,undirDiffClassCount,0,nSeg,3,detectedSeg,3,dSegRelEdges,2,CorrectSegments,2,CorrectSegmentsAndClass,1,ClassError,3,CorrectSegRels,1,CorrectSegRelLocations,1,SegRelErrors,1,hasCorrectSegments,0,hasCorrectSegLab,0,hasCorrectRelationLocations,0,hasCorrectRelLab,0,hasCorrectStructure,0\""
   ]
  },
  {
   "cell_type": "code",
   "execution_count": 82,
   "metadata": {},
   "outputs": [
    {
     "data": {
      "text/plain": [
       "'D_B,5,D_C,3,D_L,2,D_R,2,D_S,0,D_E(%),0.3860827634879544,nNodes,4,nEdges,12,nSegRelEdges,2,dPairs,2,segPairErrors,0,nodeCorrect,0,edgeDiffClassCount,0,undirDiffClassCount,0,nSeg,3,detectedSeg,3,dSegRelEdges,2,CorrectSegments,2,CorrectSegmentsAndClass,1,ClassError,3,CorrectSegRels,1,CorrectSegRelLocations,1,SegRelErrors,1,hasCorrectSegments,0,hasCorrectSegLab,0,hasCorrectRelationLocations,0,hasCorrectRelLab,0,hasCorrectStructure,0'"
      ]
     },
     "execution_count": 82,
     "metadata": {},
     "output_type": "execute_result"
    }
   ],
   "source": [
    "lt"
   ]
  },
  {
   "cell_type": "code",
   "execution_count": 83,
   "metadata": {},
   "outputs": [
    {
     "data": {
      "text/plain": [
       "'D_B,5,D_C,3,D_L,2,D_R,2,D_S,0,D_E(%),0.3860827634879544,nNodes,4,nEdges,12,nSegRelEdges,2,dPairs,2,segPairErrors,0,nodeCorrect,0,edgeDiffClassCount,0,undirDiffClassCount,0,nSeg,3,detectedSeg,3,dSegRelEdges,2,CorrectSegments,2,CorrectSegmentsAndClass,1,ClassError,3,CorrectSegRels,1,CorrectSegRelLocations,1,SegRelErrors,1,hasCorrectSegments,0,hasCorrectSegLab,0,hasCorrectRelationLocations,0,hasCorrectRelLab,0,hasCorrectStructure,0'"
      ]
     },
     "execution_count": 83,
     "metadata": {},
     "output_type": "execute_result"
    }
   ],
   "source": [
    "lt.strip()"
   ]
  },
  {
   "cell_type": "code",
   "execution_count": 85,
   "metadata": {},
   "outputs": [
    {
     "data": {
      "text/plain": [
       "False"
      ]
     },
     "execution_count": 85,
     "metadata": {},
     "output_type": "execute_result"
    }
   ],
   "source": []
  },
  {
   "cell_type": "code",
   "execution_count": null,
   "metadata": {},
   "outputs": [],
   "source": []
  }
 ],
 "metadata": {
  "kernelspec": {
   "display_name": "Python 3.7.5 64-bit ('pytorch': conda)",
   "language": "python",
   "name": "python37564bitpytorchcondac5588bf6654242e7a290bd0cca4d568e"
  },
  "language_info": {
   "codemirror_mode": {
    "name": "ipython",
    "version": 3
   },
   "file_extension": ".py",
   "mimetype": "text/x-python",
   "name": "python",
   "nbconvert_exporter": "python",
   "pygments_lexer": "ipython3",
   "version": "3.7.5"
  }
 },
 "nbformat": 4,
 "nbformat_minor": 4
}
