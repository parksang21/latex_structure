{
 "cells": [
  {
   "cell_type": "code",
   "execution_count": null,
   "metadata": {},
   "outputs": [],
   "source": [
    "with  open('label_final_processed_wo_m_test.txt', 'r') as f:\n",
    "    with open('processed_test_replace.txt', 'w') as nf:\n",
    "        for line in f:\n",
    "            newline = line\n",
    "            for a in string:\n",
    "                if a in newline:\n",
    "                    if a == 'dot' or a == 'overline' or a == 'tilde' or a == 'bar':\n",
    "                        newline.replace(a, 'sqrt')\n",
    "                    if a == 'overrightarrow':\n",
    "                        newline.replace(a, 'leq')\n",
    "                    if a == 'varphi':\n",
    "                        newline.replace(a, 'lambda')\n",
    "                    if a == \n",
    "            nf.write(newline)"
   ]
  }
 ],
 "metadata": {
  "kernelspec": {
   "display_name": "Python 3.7.5 64-bit ('pytorch': conda)",
   "language": "python",
   "name": "python37564bitpytorchcondac5588bf6654242e7a290bd0cca4d568e"
  },
  "language_info": {
   "codemirror_mode": {
    "name": "ipython",
    "version": 3
   },
   "file_extension": ".py",
   "mimetype": "text/x-python",
   "name": "python",
   "nbconvert_exporter": "python",
   "pygments_lexer": "ipython3",
   "version": "3.7.5"
  }
 },
 "nbformat": 4,
 "nbformat_minor": 4
}
